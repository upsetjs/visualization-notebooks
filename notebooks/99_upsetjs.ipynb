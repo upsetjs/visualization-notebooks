{
 "cells": [
  {
   "cell_type": "code",
   "execution_count": null,
   "metadata": {},
   "outputs": [],
   "source": [
    "import pandas as pd\n",
    "import numpy as np\n",
    "from upsetjs_jupyter_widget import UpSetWidget"
   ]
  },
  {
   "cell_type": "markdown",
   "metadata": {},
   "source": [
    "# Data\n",
    "### Input File Format\n",
    "The input file format is similar to \"Options 1: File\" in UpSetR-shiny (https://github.com/hms-dbmi/UpSetR-shiny)\n",
    "\n",
    "- Index are the unique ids\n",
    "- Columns are `set 1, set2, ..., set M` where `set` columns contain either `1` or `0`, `1` indicating the '⬤' representation in UpSet\n",
    "- Attributes -> can be passed manually"
   ]
  },
  {
   "cell_type": "markdown",
   "metadata": {},
   "source": [
    "#### Demo Data: COVID Symptom Tracker April 7 (via https://www.nature.com/articles/d41586-020-00154-w)"
   ]
  },
  {
   "cell_type": "markdown",
   "metadata": {},
   "source": [
    "<img src=\"https://media.nature.com/lw800/magazine-assets/d41586-020-00154-w/d41586-020-00154-w_17880786.jpg\" alt=\"demo_diagram\" style=\"width:300px;\"/>"
   ]
  },
  {
   "cell_type": "code",
   "execution_count": null,
   "metadata": {},
   "outputs": [],
   "source": [
    "df = pd.read_csv(\"../data/covid_symptoms_table.csv\", index_col=0)\n",
    "\n",
    "df"
   ]
  },
  {
   "cell_type": "markdown",
   "metadata": {},
   "source": [
    "# Visualization\n",
    "#### The UpSet.js visualizations contain three main views: \n",
    "\n",
    "(1) **vertical bar chart** on the top showing the cardinality of each intersecting set;\n",
    "\n",
    "(2) **matrix view** on the bottom-right showing the intersecting set;\n",
    "\n",
    "(3) **horizontal bar chart** on the bottom-left showing the cardinality of each set.\n",
    "\n",
    "#### Options:\n",
    "\n",
    "see https://upset.js.org/integrations/jupyter/ for a tutorial and https://upset.js.org/api/jupyter/ for the Python API\n",
    "\n",
    "1. Specify sets of interest (e.g., `[\"Comedy\", \"Action\", \"Adventure\"]`)\n",
    " -> subset the DataFrame before passing to UpSet.js\n",
    "\n",
    "2. Show empty intersections or not\n",
    " -> use `generate_intersections(empty=True)` \n",
    " \n",
    " see https://upset.js.org/api/jupyter/api.html#upsetjs_jupyter_widget.UpSetWidget.generate_intersections\n",
    "\n",
    "3. Sorting type: `Frequency` or `Degree`\n",
    " - by frequency i.e., set cardinality: `generate_intersections(order.by='cardinality')`\n",
    " - by degree: `generate_intersections(order.by='degree')`\n",
    " - by set group i.e., first all that have set A then remaining having set B, ..: `generate_intersections(order.by='group')` \n",
    " - by a combination of them `generate_intersections(order.by=('group', 'cardinality', 'name'))`\n",
    " \n",
    " see https://upset.js.org/api/jupyter/api.html#upsetjs_jupyter_widget.UpSetWidget.generate_intersections\n",
    "\n",
    "4. Sorting order: `descending` or `ascending`\n",
    " \n",
    " -> so far fixed per attribute: \n",
    "  - ascencding: name,degree,group\n",
    "  - descending: cardinality\n",
    "  \n",
    "  Alternatively, one can sort the sets and combinations manually, e.g.\n",
    "  ```python\n",
    "  w.sets = sorted(w.sets, key=lambda s: s.name, reverse=True)\n",
    "  w.combinations = sorted(w.combinations, key=lambda s: s.name, reverse=True)\n",
    "  ```"
   ]
  },
  {
   "cell_type": "markdown",
   "metadata": {},
   "source": [
    "## Examples w/ Different Options"
   ]
  },
  {
   "cell_type": "code",
   "execution_count": null,
   "metadata": {},
   "outputs": [],
   "source": [
    "# UpSetAltair(\n",
    "#     data=df.copy(), \n",
    "#     sets=[\"Shortness of Breath\", \"Diarrhea\", \"Fever\", \"Cough\", \"Anosmia\", \"Fatigue\"],\n",
    "#     abbre=[\"B\", \"D\", \"Fe\", \"C\", \"A\", \"Fa\"],\n",
    "#     sort_by=\"Frequency\",\n",
    "#     sort_order=\"ascending\"\n",
    "# )\n",
    "\n",
    "UpSetWidget().from_dataframe(df)"
   ]
  },
  {
   "cell_type": "code",
   "execution_count": null,
   "metadata": {},
   "outputs": [],
   "source": [
    "# UpSetAltair(\n",
    "#     data=df.copy(), \n",
    "#     sets=[\"Shortness of Breath\", \"Diarrhea\", \"Fever\", \"Cough\", \"Anosmia\", \"Fatigue\"],\n",
    "#     abbre=[\"B\", \"D\", \"Fe\", \"C\", \"A\", \"Fa\"],\n",
    "#     sort_by=\"Degree\",\n",
    "#     sort_order=\"ascending\"\n",
    "# )\n",
    "UpSetWidget().from_dataframe(df).generate_intersections(order_by='degree')"
   ]
  },
  {
   "cell_type": "code",
   "execution_count": null,
   "metadata": {},
   "outputs": [],
   "source": [
    "# UpSetAltair(\n",
    "#     data=df.copy(), \n",
    "#     sets=[\"Shortness of Breath\", \"Diarrhea\", \"Fever\", \"Cough\", \"Anosmia\", \"Fatigue\"],\n",
    "#     abbre=[\"B\", \"D\", \"Fe\", \"C\", \"A\", \"Fa\"],\n",
    "#     sort_by=\"Frequency\",\n",
    "#     sort_order=\"ascending\",\n",
    "#     width=1200,\n",
    "#     height=500,\n",
    "#     height_ratio=0.6,\n",
    "#     horizontal_bar_chart_width=300\n",
    "# )\n",
    "\n",
    "w = UpSetWidget().from_dataframe(df)\n",
    "w.width = 1200\n",
    "w.height = 500\n",
    "w.height_ratios = (0.6, 0.4)\n",
    "w.width_ratios = (0.25, 0.15, 0.6)\n",
    "w"
   ]
  },
  {
   "cell_type": "markdown",
   "metadata": {},
   "source": [
    "## Attributes\n",
    "\n",
    "UpSet.js supports numerical attributes that are shown as boxplots"
   ]
  },
  {
   "cell_type": "code",
   "execution_count": null,
   "metadata": {},
   "outputs": [],
   "source": [
    "df_attr = df.copy()\n",
    "df_attr[\"Attr\"] = np.random.randint(0, 100, size=len(df))\n",
    "\n",
    "UpSetWidget().from_dataframe(df_attr, attributes=['Attr'])"
   ]
  },
  {
   "cell_type": "markdown",
   "metadata": {},
   "source": [
    "## Interactivity\n",
    "\n",
    "UpSet.js is compatible with ipywidgets `interact` concept for interactive widgets"
   ]
  },
  {
   "cell_type": "code",
   "execution_count": null,
   "metadata": {},
   "outputs": [],
   "source": [
    "from ipywidgets import interact\n",
    "\n",
    "w = UpSetWidget()\n",
    "w.description = '' # for compatibility with ipywidgets 7.5.1 see https://github.com/upsetjs/upsetjs_jupyter_widget/issues/4\n",
    "w.from_dataframe(df)\n",
    "\n",
    "def selection_changed(s):\n",
    "    return s.name if s else None\n",
    "interact(selection_changed, s=w)"
   ]
  },
  {
   "cell_type": "code",
   "execution_count": null,
   "metadata": {},
   "outputs": [],
   "source": [
    "w_click  = UpSetWidget()\n",
    "w_click.description = '' # for compatibility with ipywidgets 7.5.1 see https://github.com/upsetjs/upsetjs_jupyter_widget/issues/4\n",
    "w_click.from_dataframe(df)\n",
    "w_click.mode = 'click' # trigger on mouse clicks\n",
    "\n",
    "def selection_changed(s):\n",
    "    return s.name if s else None\n",
    "interact(selection_changed, s=w_click)"
   ]
  },
  {
   "cell_type": "code",
   "execution_count": null,
   "metadata": {},
   "outputs": [],
   "source": [
    "# access current selection\n",
    "w_click.selection"
   ]
  },
  {
   "cell_type": "code",
   "execution_count": null,
   "metadata": {},
   "outputs": [],
   "source": []
  }
 ],
 "metadata": {
  "kernelspec": {
   "display_name": "Python 3",
   "language": "python",
   "name": "python3"
  },
  "language_info": {
   "codemirror_mode": {
    "name": "ipython",
    "version": 3
   },
   "file_extension": ".py",
   "mimetype": "text/x-python",
   "name": "python",
   "nbconvert_exporter": "python",
   "pygments_lexer": "ipython3",
   "version": "3.8.2"
  }
 },
 "nbformat": 4,
 "nbformat_minor": 4
}
